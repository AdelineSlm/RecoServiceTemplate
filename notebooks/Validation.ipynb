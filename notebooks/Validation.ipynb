{
  "cells": [
    {
      "cell_type": "markdown",
      "id": "-J1eVYwxLZX8",
      "metadata": {
        "id": "-J1eVYwxLZX8"
      },
      "source": [
        "## Преобразование данных"
      ]
    },
    {
      "cell_type": "code",
      "execution_count": null,
      "id": "f7a5a89e",
      "metadata": {},
      "outputs": [],
      "source": [
        "import os\n",
        "import zipfile\n",
        "\n",
        "import gdown\n",
        "import numpy as np\n",
        "import pandas as pd\n",
        "from tqdm import tqdm"
      ]
    },
    {
      "cell_type": "code",
      "execution_count": null,
      "id": "qbDPjxrxf2K5",
      "metadata": {
        "id": "qbDPjxrxf2K5"
      },
      "outputs": [],
      "source": [
        "url = \"https://drive.google.com/uc?export=download&confirm=no_antivirus&id=1uKwBqaqnuuKdJxIkfblsEONHMfW8KMrz\"\n",
        "\n",
        "gdown.download(url, \"data.zip\")"
      ]
    },
    {
      "cell_type": "code",
      "execution_count": null,
      "id": "6274dc28",
      "metadata": {},
      "outputs": [],
      "source": [
        "!unzip \"data.zip\""
      ]
    },
    {
      "cell_type": "code",
      "execution_count": null,
      "id": "001bd89c",
      "metadata": {},
      "outputs": [],
      "source": [
        "train_path = \"/content/train\"\n",
        "test_path = \"/content/test\""
      ]
    },
    {
      "cell_type": "code",
      "execution_count": null,
      "id": "VFtQ5qEFbAaZ",
      "metadata": {
        "id": "VFtQ5qEFbAaZ"
      },
      "outputs": [],
      "source": [
        "def get_dataframe(path):\n",
        "\n",
        "    users = []\n",
        "    items = []\n",
        "    orders = []\n",
        "    with open(path, \"r\") as file:\n",
        "        data = file.read().splitlines()\n",
        "        for i, string in tqdm(enumerate(data)):\n",
        "            item = string.split()\n",
        "            user = np.full(len(string), i)\n",
        "            order = list(range(len(item), 0, -1))\n",
        "\n",
        "            users.extend(user)\n",
        "            items.extend(item)\n",
        "            orders.extend(order)\n",
        "            del data[0]\n",
        "    print(len(users))\n",
        "    print(len(items))\n",
        "    print(len(orders))\n",
        "\n",
        "    return pd.DataFrame({\"user\": users, \"item\": items, \"order\": orders})"
      ]
    },
    {
      "cell_type": "code",
      "execution_count": null,
      "id": "S4OVhMxdc5dl",
      "metadata": {
        "id": "S4OVhMxdc5dl"
      },
      "outputs": [],
      "source": [
        "train_df = get_dataframe(train_path)\n",
        "test_df = get_dataframe(test_path)"
      ]
    },
    {
      "cell_type": "code",
      "execution_count": null,
      "id": "RqpttO2DYJ8c",
      "metadata": {
        "id": "RqpttO2DYJ8c"
      },
      "outputs": [],
      "source": [
        "df = train_df.append(test_df)"
      ]
    },
    {
      "cell_type": "markdown",
      "id": "NPA4hZmhLedl",
      "metadata": {
        "id": "NPA4hZmhLedl"
      },
      "source": [
        "# Задание 1 - Validation"
      ]
    },
    {
      "cell_type": "code",
      "execution_count": null,
      "id": "oVAgCAcbUKZX",
      "metadata": {
        "id": "oVAgCAcbUKZX"
      },
      "outputs": [],
      "source": [
        "df = pd.read_csv(\"/content/dataframe.csv/dataframe.csv\")\n",
        "df.drop([\"rank\", \"is_train\"], axis=1, inplace=True)"
      ]
    },
    {
      "cell_type": "code",
      "execution_count": null,
      "id": "dzf9eC08US05",
      "metadata": {
        "colab": {
          "base_uri": "https://localhost:8080/",
          "height": 206
        },
        "id": "dzf9eC08US05",
        "outputId": "eeb0f341-6ba9-487b-c397-8fea54b45357"
      },
      "outputs": [
        {
          "data": {
            "text/html": [
              "\n",
              "  <div id=\"df-a1723a71-07d5-4f77-837c-f98ec5afeabb\">\n",
              "    <div class=\"colab-df-container\">\n",
              "      <div>\n",
              "<style scoped>\n",
              "    .dataframe tbody tr th:only-of-type {\n",
              "        vertical-align: middle;\n",
              "    }\n",
              "\n",
              "    .dataframe tbody tr th {\n",
              "        vertical-align: top;\n",
              "    }\n",
              "\n",
              "    .dataframe thead th {\n",
              "        text-align: right;\n",
              "    }\n",
              "</style>\n",
              "<table border=\"1\" class=\"dataframe\">\n",
              "  <thead>\n",
              "    <tr style=\"text-align: right;\">\n",
              "      <th></th>\n",
              "      <th>user_id</th>\n",
              "      <th>track_id</th>\n",
              "      <th>reversed_rank</th>\n",
              "    </tr>\n",
              "  </thead>\n",
              "  <tbody>\n",
              "    <tr>\n",
              "      <th>0</th>\n",
              "      <td>0</td>\n",
              "      <td>333396</td>\n",
              "      <td>53</td>\n",
              "    </tr>\n",
              "    <tr>\n",
              "      <th>1</th>\n",
              "      <td>0</td>\n",
              "      <td>267089</td>\n",
              "      <td>52</td>\n",
              "    </tr>\n",
              "    <tr>\n",
              "      <th>2</th>\n",
              "      <td>0</td>\n",
              "      <td>155959</td>\n",
              "      <td>51</td>\n",
              "    </tr>\n",
              "    <tr>\n",
              "      <th>3</th>\n",
              "      <td>0</td>\n",
              "      <td>353335</td>\n",
              "      <td>50</td>\n",
              "    </tr>\n",
              "    <tr>\n",
              "      <th>4</th>\n",
              "      <td>0</td>\n",
              "      <td>414000</td>\n",
              "      <td>49</td>\n",
              "    </tr>\n",
              "  </tbody>\n",
              "</table>\n",
              "</div>\n",
              "      <button class=\"colab-df-convert\" onclick=\"convertToInteractive('df-a1723a71-07d5-4f77-837c-f98ec5afeabb')\"\n",
              "              title=\"Convert this dataframe to an interactive table.\"\n",
              "              style=\"display:none;\">\n",
              "        \n",
              "  <svg xmlns=\"http://www.w3.org/2000/svg\" height=\"24px\"viewBox=\"0 0 24 24\"\n",
              "       width=\"24px\">\n",
              "    <path d=\"M0 0h24v24H0V0z\" fill=\"none\"/>\n",
              "    <path d=\"M18.56 5.44l.94 2.06.94-2.06 2.06-.94-2.06-.94-.94-2.06-.94 2.06-2.06.94zm-11 1L8.5 8.5l.94-2.06 2.06-.94-2.06-.94L8.5 2.5l-.94 2.06-2.06.94zm10 10l.94 2.06.94-2.06 2.06-.94-2.06-.94-.94-2.06-.94 2.06-2.06.94z\"/><path d=\"M17.41 7.96l-1.37-1.37c-.4-.4-.92-.59-1.43-.59-.52 0-1.04.2-1.43.59L10.3 9.45l-7.72 7.72c-.78.78-.78 2.05 0 2.83L4 21.41c.39.39.9.59 1.41.59.51 0 1.02-.2 1.41-.59l7.78-7.78 2.81-2.81c.8-.78.8-2.07 0-2.86zM5.41 20L4 18.59l7.72-7.72 1.47 1.35L5.41 20z\"/>\n",
              "  </svg>\n",
              "      </button>\n",
              "      \n",
              "  <style>\n",
              "    .colab-df-container {\n",
              "      display:flex;\n",
              "      flex-wrap:wrap;\n",
              "      gap: 12px;\n",
              "    }\n",
              "\n",
              "    .colab-df-convert {\n",
              "      background-color: #E8F0FE;\n",
              "      border: none;\n",
              "      border-radius: 50%;\n",
              "      cursor: pointer;\n",
              "      display: none;\n",
              "      fill: #1967D2;\n",
              "      height: 32px;\n",
              "      padding: 0 0 0 0;\n",
              "      width: 32px;\n",
              "    }\n",
              "\n",
              "    .colab-df-convert:hover {\n",
              "      background-color: #E2EBFA;\n",
              "      box-shadow: 0px 1px 2px rgba(60, 64, 67, 0.3), 0px 1px 3px 1px rgba(60, 64, 67, 0.15);\n",
              "      fill: #174EA6;\n",
              "    }\n",
              "\n",
              "    [theme=dark] .colab-df-convert {\n",
              "      background-color: #3B4455;\n",
              "      fill: #D2E3FC;\n",
              "    }\n",
              "\n",
              "    [theme=dark] .colab-df-convert:hover {\n",
              "      background-color: #434B5C;\n",
              "      box-shadow: 0px 1px 3px 1px rgba(0, 0, 0, 0.15);\n",
              "      filter: drop-shadow(0px 1px 2px rgba(0, 0, 0, 0.3));\n",
              "      fill: #FFFFFF;\n",
              "    }\n",
              "  </style>\n",
              "\n",
              "      <script>\n",
              "        const buttonEl =\n",
              "          document.querySelector('#df-a1723a71-07d5-4f77-837c-f98ec5afeabb button.colab-df-convert');\n",
              "        buttonEl.style.display =\n",
              "          google.colab.kernel.accessAllowed ? 'block' : 'none';\n",
              "\n",
              "        async function convertToInteractive(key) {\n",
              "          const element = document.querySelector('#df-a1723a71-07d5-4f77-837c-f98ec5afeabb');\n",
              "          const dataTable =\n",
              "            await google.colab.kernel.invokeFunction('convertToInteractive',\n",
              "                                                     [key], {});\n",
              "          if (!dataTable) return;\n",
              "\n",
              "          const docLinkHtml = 'Like what you see? Visit the ' +\n",
              "            '<a target=\"_blank\" href=https://colab.research.google.com/notebooks/data_table.ipynb>data table notebook</a>'\n",
              "            + ' to learn more about interactive tables.';\n",
              "          element.innerHTML = '';\n",
              "          dataTable['output_type'] = 'display_data';\n",
              "          await google.colab.output.renderOutput(dataTable, element);\n",
              "          const docLink = document.createElement('div');\n",
              "          docLink.innerHTML = docLinkHtml;\n",
              "          element.appendChild(docLink);\n",
              "        }\n",
              "      </script>\n",
              "    </div>\n",
              "  </div>\n",
              "  "
            ],
            "text/plain": [
              "   user_id  track_id  reversed_rank\n",
              "0        0    333396             53\n",
              "1        0    267089             52\n",
              "2        0    155959             51\n",
              "3        0    353335             50\n",
              "4        0    414000             49"
            ]
          },
          "execution_count": 3,
          "metadata": {},
          "output_type": "execute_result"
        }
      ],
      "source": [
        "df.head()"
      ]
    },
    {
      "cell_type": "code",
      "execution_count": null,
      "id": "e98ffc37",
      "metadata": {
        "id": "e98ffc37"
      },
      "outputs": [],
      "source": [
        "class UsersKFoldPOut:\n",
        "    def __init__(self, n_folds, p, random_seed=23):\n",
        "        self.n_folds = n_folds\n",
        "        self.p = p\n",
        "        self.random_seed = random_seed\n",
        "\n",
        "    def split(self, df):\n",
        "        users = df[\"user_id\"].unique()\n",
        "        users_count = len(users)\n",
        "\n",
        "        np.random.seed(self.random_seed)\n",
        "        np.random.shuffle(users)\n",
        "\n",
        "        fold_sizes = np.full(self.n_folds, users_count // self.n_folds, dtype=int)\n",
        "        fold_sizes[: users_count % self.n_folds] += 1\n",
        "        current = 0\n",
        "        for fold_size in fold_sizes:\n",
        "            start, stop = current, current + fold_size\n",
        "            p_range = list(range(self.p))\n",
        "            test_fold_users = users[start:stop]\n",
        "            test_mask = df[\"reversed_rank\"].isin(p_range) & df[\"user_id\"].isin(\n",
        "                test_fold_users\n",
        "            )\n",
        "            train_mask = ~df[\"user_id\"].isin(test_fold_users)\n",
        "\n",
        "            yield train_mask, test_mask"
      ]
    },
    {
      "cell_type": "code",
      "execution_count": null,
      "id": "ef4e74be",
      "metadata": {
        "colab": {
          "base_uri": "https://localhost:8080/"
        },
        "id": "ef4e74be",
        "outputId": "d17ae17c-482f-4415-a146-2917525a8a83"
      },
      "outputs": [
        {
          "name": "stdout",
          "output_type": "stream",
          "text": [
            "Fold#0 | Train: 78277912, Test: 2417380\n",
            "Fold#1 | Train: 78277912, Test: 2417380\n",
            "Fold#2 | Train: 78277978, Test: 2417375\n"
          ]
        }
      ],
      "source": [
        "cv = UsersKFoldPOut(n_folds=3, p=5)\n",
        "\n",
        "for i, (train_mask, test_mask) in enumerate(cv.split(df)):\n",
        "    train = df[train_mask]\n",
        "    test = df[test_mask]\n",
        "    print(f\"Fold#{i} | Train: {train.shape[0]}, Test: {test.shape[0]}\")"
      ]
    },
    {
      "cell_type": "markdown",
      "id": "5d3d1f9b",
      "metadata": {},
      "source": [
        "Проверим есть ли общие пользователи"
      ]
    },
    {
      "cell_type": "code",
      "execution_count": null,
      "id": "043551e7",
      "metadata": {
        "colab": {
          "base_uri": "https://localhost:8080/"
        },
        "id": "043551e7",
        "outputId": "a6715579-d43e-4ab5-9ba2-a604fc87eee3"
      },
      "outputs": [
        {
          "data": {
            "text/plain": [
              "array([], dtype=int64)"
            ]
          },
          "execution_count": 16,
          "metadata": {},
          "output_type": "execute_result"
        }
      ],
      "source": [
        "train_users = train.user_id.unique()\n",
        "test_users = test.user_id.unique()\n",
        "\n",
        "np.intersect1d(test_users, train_users)"
      ]
    },
    {
      "cell_type": "markdown",
      "id": "f7eb111b",
      "metadata": {},
      "source": [
        "Проверим сколько треков в тесте для каждого пользователя"
      ]
    },
    {
      "cell_type": "code",
      "execution_count": null,
      "id": "K5YEqZbNWwwa",
      "metadata": {
        "colab": {
          "base_uri": "https://localhost:8080/"
        },
        "id": "K5YEqZbNWwwa",
        "outputId": "b4889f16-93b6-491d-e869-8e2fb65899d4"
      },
      "outputs": [
        {
          "name": "stdout",
          "output_type": "stream",
          "text": [
            "Количество последних треков:  5\n",
            "Ранг треков:  4 3 2 1 0\n"
          ]
        }
      ],
      "source": [
        "print(\"Количество последних треков: \", len(test.reversed_rank.unique()))\n",
        "print(\"Ранг треков: \", *test.reversed_rank.unique())"
      ]
    },
    {
      "cell_type": "markdown",
      "id": "_Dw8Hn7iLmqu",
      "metadata": {
        "id": "_Dw8Hn7iLmqu"
      },
      "source": [
        "# Задание 2 - PFound"
      ]
    },
    {
      "cell_type": "code",
      "execution_count": null,
      "id": "SLer_ILRN4C4",
      "metadata": {
        "id": "SLer_ILRN4C4"
      },
      "outputs": [],
      "source": [
        "url = \"https://drive.google.com/uc?export=download&confirm=no_antivirus&id=1lEt7Lkbj3YFDnIkK7qKu9lzCBN3zEQ_w\"\n",
        "\n",
        "gdown.download(url, \"yandex_cup.zip\")"
      ]
    },
    {
      "cell_type": "code",
      "execution_count": null,
      "id": "059ed8ea",
      "metadata": {},
      "outputs": [],
      "source": [
        "!unzip -q \"/content/yandex_cup.zip\""
      ]
    },
    {
      "cell_type": "code",
      "execution_count": null,
      "id": "TV-7x_MtO8Jf",
      "metadata": {
        "id": "TV-7x_MtO8Jf"
      },
      "outputs": [],
      "source": [
        "!unzip -q \"/content/open_task.zip\""
      ]
    },
    {
      "cell_type": "markdown",
      "id": "2d6e33d9",
      "metadata": {},
      "source": [
        "Считываем данные"
      ]
    },
    {
      "cell_type": "code",
      "execution_count": null,
      "id": "huxooMqAO7bg",
      "metadata": {
        "id": "huxooMqAO7bg"
      },
      "outputs": [],
      "source": [
        "qid_query = pd.read_csv(\"open_task/qid_query.tsv\", sep=\"\\t\", names=[\"qid\", \"query\"])\n",
        "qid_url_rating = pd.read_csv(\n",
        "    \"open_task/qid_url_rating.tsv\", sep=\"\\t\", names=[\"qid\", \"url\", \"rating\"]\n",
        ")\n",
        "hostid_url = pd.read_csv(\"open_task/hostid_url.tsv\", sep=\"\\t\", names=[\"hostid\", \"url\"])"
      ]
    },
    {
      "cell_type": "code",
      "execution_count": null,
      "id": "6ctsXJn9QO_2",
      "metadata": {
        "id": "6ctsXJn9QO_2"
      },
      "outputs": [],
      "source": [
        "qid_url_rating_hostid = pd.merge(qid_url_rating, hostid_url, on=\"url\")"
      ]
    },
    {
      "cell_type": "code",
      "execution_count": null,
      "id": "iOejBrNrmfO2",
      "metadata": {
        "id": "iOejBrNrmfO2"
      },
      "outputs": [],
      "source": [
        "def mean_pfound(df: pd.DataFrame, k: int) -> float:\n",
        "    def pfound(group):\n",
        "        max_by_host = group.groupby(\"hostid\")[\"rating\"].max()\n",
        "        top10 = max_by_host.sort_values(ascending=False)[:k]\n",
        "        p_look = ((1 - top10) * 0.85).cumprod().shift(1, fill_value=1)\n",
        "        return (top10 * p_look).sum()\n",
        "\n",
        "    return df.groupby(\"qid\").apply(pfound).mean()"
      ]
    },
    {
      "cell_type": "code",
      "execution_count": null,
      "id": "u3-C82pUgtC3",
      "metadata": {
        "colab": {
          "base_uri": "https://localhost:8080/"
        },
        "id": "u3-C82pUgtC3",
        "outputId": "10d921d4-6164-4c44-fd2b-db697a2594ae"
      },
      "outputs": [
        {
          "data": {
            "text/plain": [
              "0.4603173929969002"
            ]
          },
          "execution_count": 76,
          "metadata": {},
          "output_type": "execute_result"
        }
      ],
      "source": [
        "mean_pfound(qid_url_rating_hostid, 10)"
      ]
    },
    {
      "cell_type": "markdown",
      "id": "fbe366ea",
      "metadata": {},
      "source": [
        "Решение через цикл"
      ]
    },
    {
      "cell_type": "code",
      "execution_count": null,
      "id": "0FPxYA66LqNN",
      "metadata": {
        "colab": {
          "base_uri": "https://localhost:8080/"
        },
        "id": "0FPxYA66LqNN",
        "outputId": "4a58750d-47c5-4c0b-92e1-75a4eb500928"
      },
      "outputs": [
        {
          "data": {
            "text/plain": [
              "0.4603173929969002"
            ]
          },
          "execution_count": 81,
          "metadata": {},
          "output_type": "execute_result"
        }
      ],
      "source": [
        "def plook(ind, rels):\n",
        "    if ind == 0:\n",
        "        return 1\n",
        "    return plook(ind-1, rels)*(1-rels[ind-1])*(1-0.15)\n",
        "\n",
        "\n",
        "def pfound(group):\n",
        "    max_by_host = group.groupby(\"hostid\")[\"rating\"].max() # Максимальный рейтинг хоста\n",
        "    top10 = max_by_host.sort_values(ascending=False)[:10] # Берем топ10 урлов с наивысшим рейтингом\n",
        "    pfound = 0\n",
        "    for ind, val in enumerate(top10):\n",
        "        pfound += val*plook(ind, top10.values)\n",
        "    return pfound\n",
        "\n",
        "\n",
        "qid_pfound = qid_url_rating_hostid.groupby(\"qid\").apply(pfound) # Группируем по qid и вычисляем pfound\n",
        "qid_pfound.mean() # Берем qid с максимальным pfound\n"
      ]
    },
    {
      "cell_type": "code",
      "execution_count": null,
      "id": "5eafe9d2",
      "metadata": {},
      "outputs": [],
      "source": []
    }
  ],
  "metadata": {
    "colab": {
      "provenance": []
    },
    "gpuClass": "standard",
    "kernelspec": {
      "display_name": "Practice #2 (py38)",
      "language": "python",
      "name": "practice2"
    },
    "language_info": {
      "codemirror_mode": {
        "name": "ipython",
        "version": 3
      },
      "file_extension": ".py",
      "mimetype": "text/x-python",
      "name": "python",
      "nbconvert_exporter": "python",
      "pygments_lexer": "ipython3",
      "version": "3.8.15"
    },
    "toc": {
      "base_numbering": 1,
      "nav_menu": {},
      "number_sections": true,
      "sideBar": true,
      "skip_h1_title": true,
      "title_cell": "Table of Contents",
      "title_sidebar": "Contents",
      "toc_cell": false,
      "toc_position": {
        "height": "calc(100% - 180px)",
        "left": "10px",
        "top": "150px",
        "width": "207px"
      },
      "toc_section_display": true,
      "toc_window_display": true
    }
  },
  "nbformat": 4,
  "nbformat_minor": 5
}
